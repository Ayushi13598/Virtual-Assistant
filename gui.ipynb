{
 "cells": [
  {
   "cell_type": "code",
   "execution_count": 2,
   "metadata": {},
   "outputs": [
    {
     "ename": "ModuleNotFoundError",
     "evalue": "No module named 'espeak'",
     "output_type": "error",
     "traceback": [
      "\u001b[1;31m---------------------------------------------------------------------------\u001b[0m",
      "\u001b[1;31mModuleNotFoundError\u001b[0m                       Traceback (most recent call last)",
      "\u001b[1;32m<ipython-input-2-fe2164d956e9>\u001b[0m in \u001b[0;36m<module>\u001b[1;34m\u001b[0m\n\u001b[0;32m      2\u001b[0m \u001b[1;32mimport\u001b[0m \u001b[0mwolframalpha\u001b[0m\u001b[1;33m\u001b[0m\u001b[1;33m\u001b[0m\u001b[0m\n\u001b[0;32m      3\u001b[0m \u001b[1;32mimport\u001b[0m \u001b[0mwikipedia\u001b[0m\u001b[1;33m\u001b[0m\u001b[1;33m\u001b[0m\u001b[0m\n\u001b[1;32m----> 4\u001b[1;33m \u001b[1;32mimport\u001b[0m \u001b[0mespeak\u001b[0m\u001b[1;33m\u001b[0m\u001b[1;33m\u001b[0m\u001b[0m\n\u001b[0m\u001b[0;32m      5\u001b[0m \u001b[1;33m\u001b[0m\u001b[0m\n\u001b[0;32m      6\u001b[0m \u001b[1;32mclass\u001b[0m \u001b[0mMyFrame\u001b[0m\u001b[1;33m(\u001b[0m\u001b[0mwx\u001b[0m\u001b[1;33m.\u001b[0m\u001b[0mFrame\u001b[0m\u001b[1;33m)\u001b[0m\u001b[1;33m:\u001b[0m\u001b[1;33m\u001b[0m\u001b[1;33m\u001b[0m\u001b[0m\n",
      "\u001b[1;31mModuleNotFoundError\u001b[0m: No module named 'espeak'"
     ]
    }
   ],
   "source": [
    "import wx\n",
    "import wolframalpha\n",
    "import wikipedia\n",
    "\n",
    "class MyFrame(wx.Frame):\n",
    "    def __init__(self):\n",
    "        wx.Frame.__init__(self, None,\n",
    "            pos=wx.DefaultPosition, size=wx.Size(450, 100),\n",
    "            style=wx.MINIMIZE_BOX | wx.SYSTEM_MENU | wx.CAPTION |\n",
    "             wx.CLOSE_BOX | wx.CLIP_CHILDREN,\n",
    "            title=\"PyDa\")\n",
    "        panel = wx.Panel(self)\n",
    "        my_sizer = wx.BoxSizer(wx.VERTICAL)\n",
    "        lbl = wx.StaticText(panel,\n",
    "        label=\"Hello I am Pyda the Python Digital Assistant. How can I help you?\")\n",
    "        my_sizer.Add(lbl, 0, wx.ALL, 5)\n",
    "        self.txt = wx.TextCtrl(panel, style=wx.TE_PROCESS_ENTER,size=(400,30))\n",
    "        self.txt.SetFocus()\n",
    "        self.txt.Bind(wx.EVT_TEXT_ENTER, self.OnEnter)\n",
    "        my_sizer.Add(self.txt, 0, wx.ALL, 5)\n",
    "        panel.SetSizer(my_sizer)\n",
    "        self.Show()\n",
    "\n",
    "    def OnEnter(self, event):\n",
    "        input = self.txt.GetValue()\n",
    "        input = input.lower()\n",
    "        try:\n",
    "            app_id= \"L66AA3-3A4YRV59HH\"\n",
    "            client= wolframalpha.Client(app_id)\n",
    "            res= client.query(input)\n",
    "            answer= next(res.results).text\n",
    "            print(answer)\n",
    "        except:\n",
    "            input= input.split(' ')\n",
    "            input=\" \".join(input[2:])\n",
    "            print(wikipedia.summary(input))\n",
    "\n",
    "\n",
    "if __name__ == \"__main__\":\n",
    "    app = wx.App(True)\n",
    "    frame = MyFrame()\n",
    "    app.MainLoop()"
   ]
  },
  {
   "cell_type": "code",
   "execution_count": null,
   "metadata": {},
   "outputs": [],
   "source": []
  }
 ],
 "metadata": {
  "kernelspec": {
   "display_name": "Python 3",
   "language": "python",
   "name": "python3"
  }
 },
 "nbformat": 4,
 "nbformat_minor": 2
}
