{
 "cells": [
  {
   "cell_type": "code",
   "execution_count": 1,
   "metadata": {},
   "outputs": [],
   "source": [
    "import wikipedia\n",
    "import wolframalpha"
   ]
  },
  {
   "cell_type": "code",
   "execution_count": null,
   "metadata": {},
   "outputs": [
    {
     "name": "stdout",
     "output_type": "stream",
     "text": [
      "Question: 5_9\n",
      "9 to 5 (listed in the opening credits as Nine to Five) is a 1980 American comedy film produced by Bruce Gilbert, story by Patricia Resnick, screenplay by Resnick and Colin Higgins, and directed by Higgins. It stars Jane Fonda, Lily Tomlin, and Dolly Parton as three working women who live out their fantasies of getting even with, and their overthrow of, the company's autocratic, \"sexist, egotistical, lying, hypocritical bigot\" boss, played by Dabney Coleman.\n",
      "The film grossed over $103.9 million and is the 20th highest-grossing comedy film. As a star vehicle for Parton—already established as a successful singer, musician and songwriter—it launched her permanently into mainstream popular culture. A television series of the same name based on the film ran for five seasons, and a musical version of the film (also titled 9 to 5), with new songs written by Parton, opened on Broadway on April 30, 2009.\n",
      "9 to 5 is number 74 on the American Film Institute's \"100 Funniest Movies\" and has an 82% approval rating on review aggregator website Rotten Tomatoes.\n",
      "Question: 8+2\n",
      "10\n",
      "Question: mars\n",
      "current distance from Earth | 1.676 au\n",
      "13.94 light minutes\n",
      "average distance from Earth | 1.7 au\n",
      "14.1 light minutes\n",
      "current distance from Sun | 1.51 au\n",
      "12.56 light minutes\n",
      "largest distance from Sun | 2.4922873×10^8 km\n",
      "1.66599116 au\n",
      "smallest distance from Sun | 2.06644545×10^8 km\n",
      "1.38133346 au\n",
      "orbital period | 1.8808476 a\n"
     ]
    }
   ],
   "source": [
    "while True:\n",
    "    inp= input(\"Question: \")\n",
    "    \n",
    "    try:\n",
    "        app_id= \"L66AA3-3A4YRV59HH\"\n",
    "        client= wolframalpha.Client(app_id)\n",
    "        res= client.query(inp)\n",
    "        answer= next(res.results).text\n",
    "        print(answer)\n",
    "    except:\n",
    "        print(wikipedia.summary(inp))"
   ]
  },
  {
   "cell_type": "code",
   "execution_count": null,
   "metadata": {},
   "outputs": [],
   "source": []
  }
 ],
 "metadata": {
  "kernelspec": {
   "display_name": "Python 3",
   "language": "python",
   "name": "python3"
  },
  "language_info": {
   "codemirror_mode": {
    "name": "ipython",
    "version": 3
   },
   "file_extension": ".py",
   "mimetype": "text/x-python",
   "name": "python",
   "nbconvert_exporter": "python",
   "pygments_lexer": "ipython3",
   "version": "3.6.8"
  }
 },
 "nbformat": 4,
 "nbformat_minor": 2
}
